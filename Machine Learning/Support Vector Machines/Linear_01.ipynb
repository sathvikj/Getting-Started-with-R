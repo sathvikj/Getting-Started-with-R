{
 "cells": [
  {
   "cell_type": "code",
   "execution_count": 2,
   "metadata": {},
   "outputs": [],
   "source": [
    "import time\n",
    "import numpy as np\n",
    "import pandas as pd\n",
    "import matplotlib.pyplot as plt\n",
    "from matplotlib.colors import Normalize\n",
    "from sklearn.model_selection import train_test_split\n",
    "from sklearn.metrics import accuracy_score\n",
    "\n",
    "from sklearn.svm import SVC\n",
    "from sklearn.preprocessing import StandardScaler\n",
    "from sklearn.datasets import load_iris\n",
    "from sklearn.model_selection import StratifiedShuffleSplit\n",
    "from sklearn.model_selection import GridSearchCV"
   ]
  },
  {
   "cell_type": "code",
   "execution_count": 3,
   "metadata": {},
   "outputs": [],
   "source": [
    "from itertools import product\n",
    "def expand_grid(dictionary):\n",
    "   return pd.DataFrame([row for row in product(*dictionary.values())], \n",
    "                       columns=dictionary.keys())\n",
    "\n",
    "hyperparam = {'cost': [.001,.01,.1,1], \n",
    "              'gamma': [.001,.01,.1,1]}\n",
    "hyperparam = expand_grid(hyperparam)\n",
    "\n",
    "gamma_range = pd.Series(hyperparam['gamma']).values\n",
    "C_range = pd.Series(hyperparam['cost']).values\n",
    "param_grid = dict(gamma=gamma_range,C=C_range)"
   ]
  },
  {
   "cell_type": "code",
   "execution_count": 4,
   "metadata": {},
   "outputs": [],
   "source": [
    "data = pd.read_csv(\"OnlineNewsPopularity.csv\")\n",
    "data = data.drop(['url', ' timedelta'], axis=1)\n",
    "data = data.head(n=15000)\n",
    "data[' shares'] = np.where(data[' shares']>=1400,1,0)"
   ]
  },
  {
   "cell_type": "code",
   "execution_count": 5,
   "metadata": {},
   "outputs": [],
   "source": [
    "y = data[' shares']\n",
    "X = data.drop([' shares'], axis=1)\n",
    "X = (X-X.mean())/(X.max()-X.min())\n",
    "X_train, X_test, y_train, y_test = train_test_split(X, y, test_size=0.3, random_state = 123)\n",
    "#X_train = X_train.drop([' shares'], axis=1)\n",
    "#X_train = X_train-X_train.mean()/(X_train.max()-X_train.min())\n",
    "#X_test = X_test.drop([' shares'], axis=1)\n",
    "#X_test = X_test-X_test.mean()/(X_test.max()-X_test.min())"
   ]
  },
  {
   "cell_type": "code",
   "execution_count": 6,
   "metadata": {},
   "outputs": [
    {
     "name": "stdout",
     "output_type": "stream",
     "text": [
      "The best parameters are {'C': 1.0, 'gamma': 0.001} with a score of 0.62\n"
     ]
    }
   ],
   "source": [
    "t0 = time.time()\n",
    "cv = StratifiedShuffleSplit(n_splits=5, test_size=0.2, random_state=123)\n",
    "grid = GridSearchCV(SVC(kernel = 'linear'), param_grid=param_grid, cv=cv)\n",
    "grid.fit(X_train, y_train)\n",
    "\n",
    "print(\"The best parameters are %s with a score of %0.2f\"\n",
    "     % (grid.best_params_, grid.best_score_))\n",
    "scores1 = grid.cv_results_['mean_test_score'].reshape(len(C_range),\n",
    "                                                     len(gamma_range))"
   ]
  },
  {
   "cell_type": "code",
   "execution_count": 7,
   "metadata": {},
   "outputs": [
    {
     "data": {
      "image/png": "[encoded data removed]",
      "text/plain": [
       "<matplotlib.figure.Figure at 0x20349079d30>"
      ]
     },
     "metadata": {},
     "output_type": "display_data"
    }
   ],
   "source": [
    "plt.figure(figsize=(8,8))\n",
    "plt.imshow(scores1, interpolation='nearest', cmap=plt.cm.hot)\n",
    "plt.xlabel('gamma')\n",
    "plt.ylabel('Cost')\n",
    "plt.colorbar()\n",
    "plt.xticks(np.arange(len(gamma_range)), gamma_range, rotation=45)\n",
    "plt.yticks(np.arange(len(C_range)), C_range,rotation=45)\n",
    "plt.title('Validation accuracy Train')\n",
    "plt.show()"
   ]
  },
  {
   "cell_type": "code",
   "execution_count": 8,
   "metadata": {},
   "outputs": [
    {
     "data": {
      "text/plain": [
       "0.5714285714285672"
      ]
     },
     "execution_count": 8,
     "metadata": {},
     "output_type": "execute_result"
    }
   ],
   "source": [
    "\n",
    "clf = SVC()\n",
    "clf.fit(X_train,y_train)\n",
    "SVC(C=grid.best_params_['C'], cache_size=200,gamma=grid.best_params_['gamma'], kernel='sigmoid')\n",
    "pred = clf.predict(X_test)\n",
    "ans = accuracy_score(y_test,pred)\n",
    "diff = (ans-grid.best_score_)*100\n",
    "diff\n"
   ]
  },
  {
   "cell_type": "code",
   "execution_count": null,
   "metadata": {},
   "outputs": [],
   "source": []
  }
 ],
 "metadata": {
  "kernelspec": {
   "display_name": "Python 3",
   "language": "python",
   "name": "python3"
  },
  "language_info": {
   "codemirror_mode": {
    "name": "ipython",
    "version": 3
   },
   "file_extension": ".py",
   "mimetype": "text/x-python",
   "name": "python",
   "nbconvert_exporter": "python",
   "pygments_lexer": "ipython3",
   "version": "3.6.4"
  }
 },
 "nbformat": 4,
 "nbformat_minor": 2
}
