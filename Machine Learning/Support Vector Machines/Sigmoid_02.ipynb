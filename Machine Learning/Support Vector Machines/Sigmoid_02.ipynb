{
 "cells": [
  {
   "cell_type": "code",
   "execution_count": 4,
   "metadata": {},
   "outputs": [],
   "source": [
    "import time\n",
    "import numpy as np\n",
    "import pandas as pd\n",
    "import matplotlib.pyplot as plt\n",
    "from matplotlib.colors import Normalize\n",
    "from sklearn.model_selection import train_test_split\n",
    "from sklearn.metrics import accuracy_score\n",
    "from sklearn.model_selection import cross_val_score\n",
    "\n",
    "from sklearn.svm import SVC\n",
    "from sklearn.preprocessing import StandardScaler\n",
    "from sklearn.datasets import load_iris\n",
    "from sklearn.model_selection import StratifiedShuffleSplit\n",
    "from sklearn.model_selection import GridSearchCV"
   ]
  },
  {
   "cell_type": "code",
   "execution_count": 5,
   "metadata": {},
   "outputs": [],
   "source": [
    "data = pd.read_csv(\"credit.csv\")\n",
    "#data = data.head(n=1000)\n"
   ]
  },
  {
   "cell_type": "code",
   "execution_count": 6,
   "metadata": {},
   "outputs": [],
   "source": [
    "y = data['default']\n",
    "X = data.drop(['default'], axis=1)\n",
    "X = (X-X.mean())/(X.max()-X.min())\n",
    "X_train, X_test, y_train, y_test = train_test_split(X, y, test_size=0.3, random_state = 123)"
   ]
  },
  {
   "cell_type": "code",
   "execution_count": 7,
   "metadata": {},
   "outputs": [],
   "source": [
    "\n",
    "C_range = [.0001,.001,.01,.1,1]\n",
    "gamma_range = [.0001,.001,.01,.1,1]\n",
    "classifiers = []\n",
    "t0 = time.time()\n",
    "for C in C_range:\n",
    "    for gamma in gamma_range:\n",
    "        clf = SVC(C=C, gamma=gamma, kernel = 'sigmoid')\n",
    "        clf.fit(X_train, y_train)\n",
    "        predtrain = clf.predict(X_train)\n",
    "        tr = accuracy_score(y_train,predtrain)\n",
    "        predtest = clf.predict(X_test)\n",
    "        te = accuracy_score(y_test,predtest)\n",
    "        scores = cross_val_score(clf, X, y, cv=3)\n",
    "        classifiers.append((C, gamma, tr, te, scores.mean()))"
   ]
  },
  {
   "cell_type": "code",
   "execution_count": 8,
   "metadata": {},
   "outputs": [
    {
     "data": {
      "text/plain": [
       "[(0.0001, 0.0001, 0.7767619047619048, 0.7835555555555556, 0.7788),\n",
       " (0.0001, 0.001, 0.7767619047619048, 0.7835555555555556, 0.7788),\n",
       " (0.0001, 0.01, 0.7767619047619048, 0.7835555555555556, 0.7788),\n",
       " (0.0001, 0.1, 0.7767619047619048, 0.7835555555555556, 0.7788),\n",
       " (0.0001, 1, 0.7767619047619048, 0.7835555555555556, 0.7788),\n",
       " (0.001, 0.0001, 0.7767619047619048, 0.7835555555555556, 0.7788),\n",
       " (0.001, 0.001, 0.7767619047619048, 0.7835555555555556, 0.7788),\n",
       " (0.001, 0.01, 0.7767619047619048, 0.7835555555555556, 0.7788),\n",
       " (0.001, 0.1, 0.7767619047619048, 0.7835555555555556, 0.7788),\n",
       " (0.001, 1, 0.7767619047619048, 0.7835555555555556, 0.7788),\n",
       " (0.01, 0.0001, 0.7767619047619048, 0.7835555555555556, 0.7788),\n",
       " (0.01, 0.001, 0.7767619047619048, 0.7835555555555556, 0.7788),\n",
       " (0.01, 0.01, 0.7767619047619048, 0.7835555555555556, 0.7788),\n",
       " (0.01, 0.1, 0.7767619047619048, 0.7835555555555556, 0.7788),\n",
       " (0.01, 1, 0.7767619047619048, 0.7835555555555556, 0.7788),\n",
       " (0.1, 0.0001, 0.7767619047619048, 0.7835555555555556, 0.7788),\n",
       " (0.1, 0.001, 0.7767619047619048, 0.7835555555555556, 0.7788),\n",
       " (0.1, 0.01, 0.7767619047619048, 0.7835555555555556, 0.7788),\n",
       " (0.1, 0.1, 0.7767619047619048, 0.7835555555555556, 0.7788),\n",
       " (0.1, 1, 0.794, 0.7976666666666666, 0.7939333333333334),\n",
       " (1, 0.0001, 0.7767619047619048, 0.7835555555555556, 0.7788),\n",
       " (1, 0.001, 0.7767619047619048, 0.7835555555555556, 0.7788),\n",
       " (1, 0.01, 0.7767619047619048, 0.7835555555555556, 0.7788),\n",
       " (1, 0.1, 0.7835714285714286, 0.7914444444444444, 0.7873),\n",
       " (1, 1, 0.771952380952381, 0.7762222222222223, 0.7660666666666667)]"
      ]
     },
     "execution_count": 8,
     "metadata": {},
     "output_type": "execute_result"
    }
   ],
   "source": [
    "classifiers\n"
   ]
  },
  {
   "cell_type": "code",
   "execution_count": 9,
   "metadata": {},
   "outputs": [
    {
     "data": {
      "text/plain": [
       "1591.6917378902435"
      ]
     },
     "execution_count": 9,
     "metadata": {},
     "output_type": "execute_result"
    }
   ],
   "source": [
    "time.time()-t0"
   ]
  },
  {
   "cell_type": "code",
   "execution_count": 10,
   "metadata": {},
   "outputs": [],
   "source": [
    "output = pd.DataFrame(classifiers)\n",
    "output.to_csv('sigmoid2.csv')"
   ]
  },
  {
   "cell_type": "code",
   "execution_count": null,
   "metadata": {},
   "outputs": [],
   "source": []
  }
 ],
 "metadata": {
  "kernelspec": {
   "display_name": "Python 3",
   "language": "python",
   "name": "python3"
  },
  "language_info": {
   "codemirror_mode": {
    "name": "ipython",
    "version": 3
   },
   "file_extension": ".py",
   "mimetype": "text/x-python",
   "name": "python",
   "nbconvert_exporter": "python",
   "pygments_lexer": "ipython3",
   "version": "3.6.4"
  }
 },
 "nbformat": 4,
 "nbformat_minor": 2
}
